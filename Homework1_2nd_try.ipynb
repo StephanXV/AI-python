{
 "cells": [
  {
   "cell_type": "code",
   "execution_count": 1,
   "id": "2bf2a212",
   "metadata": {},
   "outputs": [],
   "source": [
    "import chess"
   ]
  },
  {
   "cell_type": "code",
   "execution_count": 12,
   "id": "ff704b9d",
   "metadata": {},
   "outputs": [],
   "source": [
    "class State():\n",
    "    \n",
    "    def __init__(self, initialState):\n",
    "        self.state = initialState\n",
    "    \n",
    "    def neighbors(self):\n",
    "        raise NotImplementedError\n",
    "        \n",
    "    def is_terminal(self):\n",
    "        raise NotImplementedError\n",
    "        \n",
    "    def display(self):\n",
    "        return print(self)\n",
    "    "
   ]
  },
  {
   "cell_type": "code",
   "execution_count": null,
   "id": "81212003",
   "metadata": {},
   "outputs": [],
   "source": [
    "class Agent():\n",
    "    \n",
    "    def __init__(self, search_algorithm, heuristics={}):\n",
    "        self.search_algorithm = search_algorithm\n",
    "        self.heuristics = heuristics\n",
    "        \n",
    "    def search(self, state):\n",
    "        return search_algorithm(state, heuristics);"
   ]
  },
  {
   "cell_type": "code",
   "execution_count": 14,
   "id": "97835a14",
   "metadata": {},
   "outputs": [],
   "source": [
    "class EightPuzzleState(State):\n",
    "    \n",
    "    def neighbors(self):\n",
    "        moves = ((1, 3),    (0, 2, 4),    (1, 5),\n",
    "                 (0, 4, 6), (1, 3, 5, 7), (2, 4, 8),\n",
    "                 (3, 7),    (4, 6, 8),    (7, 5))\n",
    "    \n",
    "        s = list(self.state)\n",
    "        blank = self.state.index(0)\n",
    "        \n",
    "        reachableStates = []\n",
    "        \n",
    "        for action in moves[blank]:\n",
    "            reachableStates.append(result(action))\n",
    "        return reachableStates;\n",
    "            \n",
    "    def result(self, action):\n",
    "        s = list(self.state)\n",
    "        blank = self.state.index(0)\n",
    "        s[action], s[blank] = s[blank], s[action]\n",
    "        return EightPuzzleState(tuple(s))\n",
    "    \n",
    "    def is_terminal(self)\n",
    "        goal = (0, 1, 2, 3, 4, 5, 6, 7, 8)\n",
    "        return self.state == goal"
   ]
  },
  {
   "cell_type": "code",
   "execution_count": null,
   "id": "17ee00de",
   "metadata": {},
   "outputs": [],
   "source": []
  }
 ],
 "metadata": {
  "kernelspec": {
   "display_name": "Python 3 (ipykernel)",
   "language": "python",
   "name": "python3"
  },
  "language_info": {
   "codemirror_mode": {
    "name": "ipython",
    "version": 3
   },
   "file_extension": ".py",
   "mimetype": "text/x-python",
   "name": "python",
   "nbconvert_exporter": "python",
   "pygments_lexer": "ipython3",
   "version": "3.9.7"
  }
 },
 "nbformat": 4,
 "nbformat_minor": 5
}
